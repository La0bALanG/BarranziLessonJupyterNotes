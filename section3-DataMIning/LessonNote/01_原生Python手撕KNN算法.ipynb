{
 "cells": [
  {
   "cell_type": "code",
   "execution_count": 3,
   "id": "33bdf548-e661-4f33-84df-55c3c23d0a1d",
   "metadata": {},
   "outputs": [],
   "source": [
    "import numpy as np\n",
    "import pandas as pd\n",
    "import matplotlib.pyplot as plt\n",
    "\n",
    "from IPython.core.interactiveshell import InteractiveShell # 这个对象设置所有行全部输出\n",
    "\n",
    "# 设置该对象ast_node_interactivity属性的值为all，表示在notebook下每一行有输出的代码全部输出运算结果\n",
    "InteractiveShell.ast_node_interactivity = \"all\" "
   ]
  },
  {
   "cell_type": "code",
   "execution_count": 49,
   "id": "9bc582fa-5541-4f9c-a2d3-97f5b3f136fd",
   "metadata": {},
   "outputs": [
    {
     "data": {
      "text/html": [
       "<div>\n",
       "<style scoped>\n",
       "    .dataframe tbody tr th:only-of-type {\n",
       "        vertical-align: middle;\n",
       "    }\n",
       "\n",
       "    .dataframe tbody tr th {\n",
       "        vertical-align: top;\n",
       "    }\n",
       "\n",
       "    .dataframe thead th {\n",
       "        text-align: right;\n",
       "    }\n",
       "</style>\n",
       "<table border=\"1\" class=\"dataframe\">\n",
       "  <thead>\n",
       "    <tr style=\"text-align: right;\">\n",
       "      <th></th>\n",
       "      <th>Color_Depth</th>\n",
       "      <th>Alcohol_concentration</th>\n",
       "      <th>classes</th>\n",
       "    </tr>\n",
       "  </thead>\n",
       "  <tbody>\n",
       "    <tr>\n",
       "      <th>0</th>\n",
       "      <td>14.13</td>\n",
       "      <td>5.64</td>\n",
       "      <td>0</td>\n",
       "    </tr>\n",
       "    <tr>\n",
       "      <th>1</th>\n",
       "      <td>13.20</td>\n",
       "      <td>4.28</td>\n",
       "      <td>0</td>\n",
       "    </tr>\n",
       "    <tr>\n",
       "      <th>2</th>\n",
       "      <td>13.16</td>\n",
       "      <td>5.68</td>\n",
       "      <td>0</td>\n",
       "    </tr>\n",
       "    <tr>\n",
       "      <th>3</th>\n",
       "      <td>14.27</td>\n",
       "      <td>4.80</td>\n",
       "      <td>0</td>\n",
       "    </tr>\n",
       "    <tr>\n",
       "      <th>4</th>\n",
       "      <td>13.24</td>\n",
       "      <td>4.22</td>\n",
       "      <td>0</td>\n",
       "    </tr>\n",
       "    <tr>\n",
       "      <th>5</th>\n",
       "      <td>12.07</td>\n",
       "      <td>2.76</td>\n",
       "      <td>1</td>\n",
       "    </tr>\n",
       "    <tr>\n",
       "      <th>6</th>\n",
       "      <td>12.43</td>\n",
       "      <td>3.94</td>\n",
       "      <td>1</td>\n",
       "    </tr>\n",
       "    <tr>\n",
       "      <th>7</th>\n",
       "      <td>11.79</td>\n",
       "      <td>3.10</td>\n",
       "      <td>1</td>\n",
       "    </tr>\n",
       "    <tr>\n",
       "      <th>8</th>\n",
       "      <td>12.37</td>\n",
       "      <td>2.12</td>\n",
       "      <td>1</td>\n",
       "    </tr>\n",
       "    <tr>\n",
       "      <th>9</th>\n",
       "      <td>12.04</td>\n",
       "      <td>2.60</td>\n",
       "      <td>1</td>\n",
       "    </tr>\n",
       "  </tbody>\n",
       "</table>\n",
       "</div>"
      ],
      "text/plain": [
       "   Color_Depth  Alcohol_concentration  classes\n",
       "0        14.13                   5.64        0\n",
       "1        13.20                   4.28        0\n",
       "2        13.16                   5.68        0\n",
       "3        14.27                   4.80        0\n",
       "4        13.24                   4.22        0\n",
       "5        12.07                   2.76        1\n",
       "6        12.43                   3.94        1\n",
       "7        11.79                   3.10        1\n",
       "8        12.37                   2.12        1\n",
       "9        12.04                   2.60        1"
      ]
     },
     "execution_count": 49,
     "metadata": {},
     "output_type": "execute_result"
    }
   ],
   "source": [
    "# prepare fake data - type:dict;\n",
    "rowdata = {\n",
    "    'Color_Depth':[14.13,13.2,13.16,14.27,13.24,12.07,12.43,11.79,12.37,12.04],\n",
    "    'Alcohol_concentration': [5.64,4.28,5.68,4.80,4.22,2.76,3.94,3.1,2.12,2.6],\n",
    "    'classes': [0,0,0,0,0,1,1,1,1,1] # 0:Pinot_Noir - 1:Cabernet Sauvignon\n",
    "}\n",
    "\n",
    "# get dataframe\n",
    "wine_data = pd.DataFrame(rowdata)\n",
    "wine_data"
   ]
  },
  {
   "cell_type": "code",
   "execution_count": 51,
   "id": "f430eb7f-4254-4f0c-81d3-9aeab294b7be",
   "metadata": {},
   "outputs": [
    {
     "data": {
      "text/plain": [
       "array([[14.13,  5.64],\n",
       "       [13.2 ,  4.28],\n",
       "       [13.16,  5.68],\n",
       "       [14.27,  4.8 ],\n",
       "       [13.24,  4.22],\n",
       "       [12.07,  2.76],\n",
       "       [12.43,  3.94],\n",
       "       [11.79,  3.1 ],\n",
       "       [12.37,  2.12],\n",
       "       [12.04,  2.6 ]])"
      ]
     },
     "execution_count": 51,
     "metadata": {},
     "output_type": "execute_result"
    },
    {
     "data": {
      "text/plain": [
       "array([0, 0, 0, 0, 0, 1, 1, 1, 1, 1])"
      ]
     },
     "execution_count": 51,
     "metadata": {},
     "output_type": "execute_result"
    }
   ],
   "source": [
    "# get feature_map\n",
    "x = np.array(wine_data.iloc[:,0:2])\n",
    "\n",
    "# get target\n",
    "y = np.array(wine_data.iloc[:,-1]) \n",
    "x\n",
    "y"
   ]
  },
  {
   "cell_type": "code",
   "execution_count": 53,
   "id": "8cdb8ac0-e543-430a-8186-591b920e7d08",
   "metadata": {},
   "outputs": [
    {
     "data": {
      "text/plain": [
       "<matplotlib.collections.PathCollection at 0x7f8788493280>"
      ]
     },
     "execution_count": 53,
     "metadata": {},
     "output_type": "execute_result"
    },
    {
     "data": {
      "text/plain": [
       "<matplotlib.collections.PathCollection at 0x7f8786c3d6f0>"
      ]
     },
     "execution_count": 53,
     "metadata": {},
     "output_type": "execute_result"
    },
    {
     "data": {
      "text/plain": [
       "<matplotlib.collections.PathCollection at 0x7f8788493610>"
      ]
     },
     "execution_count": 53,
     "metadata": {},
     "output_type": "execute_result"
    },
    {
     "data": {
      "text/plain": [
       "Text(0.5, 0, 'Alcohol concentration')"
      ]
     },
     "execution_count": 53,
     "metadata": {},
     "output_type": "execute_result"
    },
    {
     "data": {
      "text/plain": [
       "Text(0, 0.5, 'Color Depth')"
      ]
     },
     "execution_count": 53,
     "metadata": {},
     "output_type": "execute_result"
    },
    {
     "data": {
      "text/plain": [
       "<matplotlib.legend.Legend at 0x7f8788493e80>"
      ]
     },
     "execution_count": 53,
     "metadata": {},
     "output_type": "execute_result"
    },
    {
     "name": "stderr",
     "output_type": "stream",
     "text": [
      "findfont: Generic family 'sans-serif' not found because none of the following families were found: Simhei\n",
      "findfont: Generic family 'sans-serif' not found because none of the following families were found: Simhei\n",
      "findfont: Generic family 'sans-serif' not found because none of the following families were found: Simhei\n",
      "findfont: Generic family 'sans-serif' not found because none of the following families were found: Simhei\n",
      "findfont: Generic family 'sans-serif' not found because none of the following families were found: Simhei\n",
      "findfont: Generic family 'sans-serif' not found because none of the following families were found: Simhei\n",
      "findfont: Generic family 'sans-serif' not found because none of the following families were found: Simhei\n",
      "findfont: Generic family 'sans-serif' not found because none of the following families were found: Simhei\n",
      "findfont: Generic family 'sans-serif' not found because none of the following families were found: Simhei\n",
      "findfont: Generic family 'sans-serif' not found because none of the following families were found: Simhei\n",
      "findfont: Generic family 'sans-serif' not found because none of the following families were found: Simhei\n",
      "findfont: Generic family 'sans-serif' not found because none of the following families were found: Simhei\n",
      "findfont: Generic family 'sans-serif' not found because none of the following families were found: Simhei\n",
      "findfont: Generic family 'sans-serif' not found because none of the following families were found: Simhei\n",
      "findfont: Generic family 'sans-serif' not found because none of the following families were found: Simhei\n",
      "findfont: Generic family 'sans-serif' not found because none of the following families were found: Simhei\n",
      "findfont: Generic family 'sans-serif' not found because none of the following families were found: Simhei\n",
      "findfont: Generic family 'sans-serif' not found because none of the following families were found: Simhei\n",
      "findfont: Generic family 'sans-serif' not found because none of the following families were found: Simhei\n",
      "findfont: Generic family 'sans-serif' not found because none of the following families were found: Simhei\n",
      "findfont: Generic family 'sans-serif' not found because none of the following families were found: Simhei\n",
      "findfont: Generic family 'sans-serif' not found because none of the following families were found: Simhei\n",
      "findfont: Generic family 'sans-serif' not found because none of the following families were found: Simhei\n",
      "findfont: Generic family 'sans-serif' not found because none of the following families were found: Simhei\n",
      "findfont: Generic family 'sans-serif' not found because none of the following families were found: Simhei\n",
      "findfont: Generic family 'sans-serif' not found because none of the following families were found: Simhei\n",
      "findfont: Generic family 'sans-serif' not found because none of the following families were found: Simhei\n",
      "findfont: Generic family 'sans-serif' not found because none of the following families were found: Simhei\n",
      "findfont: Generic family 'sans-serif' not found because none of the following families were found: Simhei\n",
      "findfont: Generic family 'sans-serif' not found because none of the following families were found: Simhei\n",
      "findfont: Generic family 'sans-serif' not found because none of the following families were found: Simhei\n",
      "findfont: Generic family 'sans-serif' not found because none of the following families were found: Simhei\n",
      "findfont: Generic family 'sans-serif' not found because none of the following families were found: Simhei\n",
      "findfont: Generic family 'sans-serif' not found because none of the following families were found: Simhei\n",
      "findfont: Generic family 'sans-serif' not found because none of the following families were found: Simhei\n",
      "findfont: Generic family 'sans-serif' not found because none of the following families were found: Simhei\n",
      "findfont: Generic family 'sans-serif' not found because none of the following families were found: Simhei\n",
      "findfont: Generic family 'sans-serif' not found because none of the following families were found: Simhei\n",
      "findfont: Generic family 'sans-serif' not found because none of the following families were found: Simhei\n",
      "findfont: Generic family 'sans-serif' not found because none of the following families were found: Simhei\n",
      "findfont: Generic family 'sans-serif' not found because none of the following families were found: Simhei\n",
      "findfont: Generic family 'sans-serif' not found because none of the following families were found: Simhei\n",
      "findfont: Generic family 'sans-serif' not found because none of the following families were found: Simhei\n",
      "findfont: Generic family 'sans-serif' not found because none of the following families were found: Simhei\n",
      "findfont: Generic family 'sans-serif' not found because none of the following families were found: Simhei\n",
      "findfont: Generic family 'sans-serif' not found because none of the following families were found: Simhei\n",
      "findfont: Generic family 'sans-serif' not found because none of the following families were found: Simhei\n",
      "findfont: Generic family 'sans-serif' not found because none of the following families were found: Simhei\n",
      "findfont: Generic family 'sans-serif' not found because none of the following families were found: Simhei\n",
      "findfont: Generic family 'sans-serif' not found because none of the following families were found: Simhei\n",
      "findfont: Generic family 'sans-serif' not found because none of the following families were found: Simhei\n",
      "findfont: Generic family 'sans-serif' not found because none of the following families were found: Simhei\n",
      "findfont: Generic family 'sans-serif' not found because none of the following families were found: Simhei\n",
      "findfont: Generic family 'sans-serif' not found because none of the following families were found: Simhei\n",
      "findfont: Generic family 'sans-serif' not found because none of the following families were found: Simhei\n",
      "findfont: Generic family 'sans-serif' not found because none of the following families were found: Simhei\n",
      "findfont: Generic family 'sans-serif' not found because none of the following families were found: Simhei\n",
      "findfont: Generic family 'sans-serif' not found because none of the following families were found: Simhei\n",
      "findfont: Generic family 'sans-serif' not found because none of the following families were found: Simhei\n",
      "findfont: Generic family 'sans-serif' not found because none of the following families were found: Simhei\n",
      "findfont: Generic family 'sans-serif' not found because none of the following families were found: Simhei\n",
      "findfont: Generic family 'sans-serif' not found because none of the following families were found: Simhei\n",
      "findfont: Generic family 'sans-serif' not found because none of the following families were found: Simhei\n",
      "findfont: Generic family 'sans-serif' not found because none of the following families were found: Simhei\n",
      "findfont: Generic family 'sans-serif' not found because none of the following families were found: Simhei\n",
      "findfont: Generic family 'sans-serif' not found because none of the following families were found: Simhei\n",
      "findfont: Generic family 'sans-serif' not found because none of the following families were found: Simhei\n",
      "findfont: Generic family 'sans-serif' not found because none of the following families were found: Simhei\n",
      "findfont: Generic family 'sans-serif' not found because none of the following families were found: Simhei\n",
      "findfont: Generic family 'sans-serif' not found because none of the following families were found: Simhei\n",
      "findfont: Generic family 'sans-serif' not found because none of the following families were found: Simhei\n",
      "findfont: Generic family 'sans-serif' not found because none of the following families were found: Simhei\n",
      "findfont: Generic family 'sans-serif' not found because none of the following families were found: Simhei\n",
      "findfont: Generic family 'sans-serif' not found because none of the following families were found: Simhei\n",
      "findfont: Generic family 'sans-serif' not found because none of the following families were found: Simhei\n",
      "findfont: Generic family 'sans-serif' not found because none of the following families were found: Simhei\n",
      "findfont: Generic family 'sans-serif' not found because none of the following families were found: Simhei\n",
      "findfont: Generic family 'sans-serif' not found because none of the following families were found: Simhei\n",
      "findfont: Generic family 'sans-serif' not found because none of the following families were found: Simhei\n",
      "findfont: Generic family 'sans-serif' not found because none of the following families were found: Simhei\n",
      "findfont: Generic family 'sans-serif' not found because none of the following families were found: Simhei\n",
      "findfont: Generic family 'sans-serif' not found because none of the following families were found: Simhei\n",
      "findfont: Generic family 'sans-serif' not found because none of the following families were found: Simhei\n",
      "findfont: Generic family 'sans-serif' not found because none of the following families were found: Simhei\n",
      "findfont: Generic family 'sans-serif' not found because none of the following families were found: Simhei\n",
      "findfont: Generic family 'sans-serif' not found because none of the following families were found: Simhei\n",
      "findfont: Generic family 'sans-serif' not found because none of the following families were found: Simhei\n",
      "findfont: Generic family 'sans-serif' not found because none of the following families were found: Simhei\n",
      "findfont: Generic family 'sans-serif' not found because none of the following families were found: Simhei\n",
      "findfont: Generic family 'sans-serif' not found because none of the following families were found: Simhei\n",
      "findfont: Generic family 'sans-serif' not found because none of the following families were found: Simhei\n",
      "findfont: Generic family 'sans-serif' not found because none of the following families were found: Simhei\n",
      "findfont: Generic family 'sans-serif' not found because none of the following families were found: Simhei\n",
      "findfont: Generic family 'sans-serif' not found because none of the following families were found: Simhei\n",
      "findfont: Generic family 'sans-serif' not found because none of the following families were found: Simhei\n",
      "findfont: Generic family 'sans-serif' not found because none of the following families were found: Simhei\n",
      "findfont: Generic family 'sans-serif' not found because none of the following families were found: Simhei\n",
      "findfont: Generic family 'sans-serif' not found because none of the following families were found: Simhei\n",
      "findfont: Generic family 'sans-serif' not found because none of the following families were found: Simhei\n",
      "findfont: Generic family 'sans-serif' not found because none of the following families were found: Simhei\n",
      "findfont: Generic family 'sans-serif' not found because none of the following families were found: Simhei\n",
      "findfont: Generic family 'sans-serif' not found because none of the following families were found: Simhei\n",
      "findfont: Generic family 'sans-serif' not found because none of the following families were found: Simhei\n",
      "findfont: Generic family 'sans-serif' not found because none of the following families were found: Simhei\n",
      "findfont: Generic family 'sans-serif' not found because none of the following families were found: Simhei\n",
      "findfont: Generic family 'sans-serif' not found because none of the following families were found: Simhei\n",
      "findfont: Generic family 'sans-serif' not found because none of the following families were found: Simhei\n",
      "findfont: Generic family 'sans-serif' not found because none of the following families were found: Simhei\n",
      "findfont: Generic family 'sans-serif' not found because none of the following families were found: Simhei\n",
      "findfont: Generic family 'sans-serif' not found because none of the following families were found: Simhei\n",
      "findfont: Generic family 'sans-serif' not found because none of the following families were found: Simhei\n",
      "findfont: Generic family 'sans-serif' not found because none of the following families were found: Simhei\n",
      "findfont: Generic family 'sans-serif' not found because none of the following families were found: Simhei\n",
      "findfont: Generic family 'sans-serif' not found because none of the following families were found: Simhei\n",
      "findfont: Generic family 'sans-serif' not found because none of the following families were found: Simhei\n",
      "findfont: Generic family 'sans-serif' not found because none of the following families were found: Simhei\n",
      "findfont: Generic family 'sans-serif' not found because none of the following families were found: Simhei\n",
      "findfont: Generic family 'sans-serif' not found because none of the following families were found: Simhei\n",
      "findfont: Generic family 'sans-serif' not found because none of the following families were found: Simhei\n",
      "findfont: Generic family 'sans-serif' not found because none of the following families were found: Simhei\n",
      "findfont: Generic family 'sans-serif' not found because none of the following families were found: Simhei\n",
      "findfont: Generic family 'sans-serif' not found because none of the following families were found: Simhei\n",
      "findfont: Generic family 'sans-serif' not found because none of the following families were found: Simhei\n",
      "findfont: Generic family 'sans-serif' not found because none of the following families were found: Simhei\n",
      "findfont: Generic family 'sans-serif' not found because none of the following families were found: Simhei\n",
      "findfont: Generic family 'sans-serif' not found because none of the following families were found: Simhei\n",
      "findfont: Generic family 'sans-serif' not found because none of the following families were found: Simhei\n",
      "findfont: Generic family 'sans-serif' not found because none of the following families were found: Simhei\n",
      "findfont: Generic family 'sans-serif' not found because none of the following families were found: Simhei\n",
      "findfont: Generic family 'sans-serif' not found because none of the following families were found: Simhei\n",
      "findfont: Generic family 'sans-serif' not found because none of the following families were found: Simhei\n",
      "findfont: Generic family 'sans-serif' not found because none of the following families were found: Simhei\n",
      "findfont: Generic family 'sans-serif' not found because none of the following families were found: Simhei\n",
      "findfont: Generic family 'sans-serif' not found because none of the following families were found: Simhei\n",
      "findfont: Generic family 'sans-serif' not found because none of the following families were found: Simhei\n"
     ]
    },
    {
     "data": {
      "image/png": "[encoded data removed]",
      "text/plain": [
       "<Figure size 640x480 with 1 Axes>"
      ]
     },
     "metadata": {},
     "output_type": "display_data"
    }
   ],
   "source": [
    "# prepare a new data,predict which classes\n",
    "new_data = np.array([12.03,4.1])\n",
    "\n",
    "# get scatter plot\n",
    "# target of 1,about Cabernet Sauvignon\n",
    "plt.scatter(x[y==1,0], x[y==1,1], color='red', label='Cabernet Sauvignon')\n",
    "\n",
    "# target of 0,about Pinot Noir\n",
    "plt.scatter(x[y==0,0], x[y==0,1], color='purple', label='Pinot Noir')\n",
    "\n",
    "# new data,unknown classes\n",
    "plt.scatter(new_data[0],new_data[1], color='yellow')\n",
    "\n",
    "# set scatter attrs\n",
    "plt.xlabel('Alcohol concentration')\n",
    "plt.ylabel('Color Depth')\n",
    "plt.legend(loc='lower right')\n",
    "\n",
    "# save\n",
    "plt.savefig('img_1.png')"
   ]
  },
  {
   "cell_type": "code",
   "execution_count": 55,
   "id": "6ca42a92-5c97-4054-bee1-96933d1cc9f8",
   "metadata": {},
   "outputs": [
    {
     "data": {
      "text/plain": [
       "[2.6041505332833594,\n",
       " 1.1837651794169315,\n",
       " 1.9424983912477256,\n",
       " 2.3468276459936295,\n",
       " 1.2159358535712326,\n",
       " 1.3405968819895113,\n",
       " 0.4308131845707605,\n",
       " 1.0283968105745949,\n",
       " 2.0089798406156287,\n",
       " 1.500033332962971]"
      ]
     },
     "execution_count": 55,
     "metadata": {},
     "output_type": "execute_result"
    }
   ],
   "source": [
    "# import math\n",
    "from math import sqrt\n",
    "\n",
    "# calculate\n",
    "distance = [sqrt(np.sum((x_num - new_data) ** 2)) for x_num in x ] # 循环遍历\n",
    "distance"
   ]
  },
  {
   "cell_type": "code",
   "execution_count": 35,
   "id": "b963a482-d597-43b9-9841-dee4a912562e",
   "metadata": {},
   "outputs": [
    {
     "data": {
      "text/plain": [
       "array([6, 7, 1, 4, 5, 9, 2, 8, 3, 0])"
      ]
     },
     "execution_count": 35,
     "metadata": {},
     "output_type": "execute_result"
    }
   ],
   "source": [
    "# sort the distance array by index\n",
    "sort_dist = np.argsort(distance)\n",
    "sort_dist"
   ]
  },
  {
   "cell_type": "code",
   "execution_count": 57,
   "id": "16198531-c9a4-4f18-83fa-3ac594eb9046",
   "metadata": {},
   "outputs": [
    {
     "data": {
      "text/plain": [
       "[1, 1, 0]"
      ]
     },
     "execution_count": 57,
     "metadata": {},
     "output_type": "execute_result"
    }
   ],
   "source": [
    "# hyper params,default for 3\n",
    "k = 3\n",
    "\n",
    "# from sort dist get the first three samples and get target class by index\n",
    "topK = [y[i] for i in sort_dist[:k]]\n",
    "topK"
   ]
  },
  {
   "cell_type": "code",
   "execution_count": 39,
   "id": "e26600d2-8568-46cb-8960-b661c44d9598",
   "metadata": {},
   "outputs": [
    {
     "data": {
      "text/plain": [
       "1    2\n",
       "0    1\n",
       "Name: count, dtype: int64"
      ]
     },
     "execution_count": 39,
     "metadata": {},
     "output_type": "execute_result"
    }
   ],
   "source": [
    "# transform to series and value_counts(),Count the total number of samples belonging to each category（统计所属各个类别的样本总数）\n",
    "pd.Series(topK).value_counts()"
   ]
  },
  {
   "cell_type": "code",
   "execution_count": 41,
   "id": "b59ac49a-cd48-4ada-8a7f-ad79a55cd744",
   "metadata": {},
   "outputs": [
    {
     "data": {
      "text/plain": [
       "1"
      ]
     },
     "execution_count": 41,
     "metadata": {},
     "output_type": "execute_result"
    }
   ],
   "source": [
    "# The category with the largest number of samples is the target category\n",
    "# 样本数最大的类别就是目标类别\n",
    "pd.Series(topK).value_counts().index[0]"
   ]
  },
  {
   "cell_type": "code",
   "execution_count": 43,
   "id": "fafe77f3-95a2-4a5b-8105-882e3565acb1",
   "metadata": {},
   "outputs": [],
   "source": [
    "# define a function for KNN\n",
    "def KNN_alo(new_data,dataset,k):\n",
    "    '''\n",
    "    get a KNN classification\n",
    "    :params new_data:test data\n",
    "    :params dataset:train data\n",
    "    :params k:hyper params,k nearest neighbors\n",
    "    :return:class result\n",
    "    '''\n",
    "    result = []\n",
    "    \n",
    "    X = np.array(wine_data.iloc[:,0:2])\n",
    "    y = np.array(wine_data.iloc[:,-1])\n",
    "    \n",
    "    distance = [sqrt(np.sum((x_num - new_data) ** 2)) for x_num in X ]\n",
    "    sort_dist = np.argsort(distance)\n",
    "    topK = [y[i] for i in sort_dist[:k]]\n",
    "\n",
    "    result.append(pd.Series(topK).value_counts().index[0])\n",
    "\n",
    "    return result"
   ]
  },
  {
   "cell_type": "code",
   "execution_count": 63,
   "id": "e68f4c9d-e672-47f6-b3e4-03c06337141c",
   "metadata": {},
   "outputs": [],
   "source": [
    "def test():\n",
    "    new_data=np.array([12.03,4.1])\n",
    "    k = 3\n",
    "    print(f'by KNN,the test data:{new_data}target to:{KNN_alo(new_data,wine_data,k)[0]}')"
   ]
  },
  {
   "cell_type": "code",
   "execution_count": 64,
   "id": "c4bd123e-474e-4481-9c99-97a9ec702e2d",
   "metadata": {},
   "outputs": [
    {
     "name": "stdout",
     "output_type": "stream",
     "text": [
      "by KNN,the test data:[12.03  4.1 ]target to:1\n"
     ]
    }
   ],
   "source": [
    "test()"
   ]
  }
 ],
 "metadata": {
  "kernelspec": {
   "display_name": "anaconda-ai-2024.04-py310",
   "language": "python",
   "name": "conda-env-anaconda-ai-2024.04-py310-py"
  },
  "language_info": {
   "codemirror_mode": {
    "name": "ipython",
    "version": 3
   },
   "file_extension": ".py",
   "mimetype": "text/x-python",
   "name": "python",
   "nbconvert_exporter": "python",
   "pygments_lexer": "ipython3",
   "version": "3.10.13"
  }
 },
 "nbformat": 4,
 "nbformat_minor": 5
}
