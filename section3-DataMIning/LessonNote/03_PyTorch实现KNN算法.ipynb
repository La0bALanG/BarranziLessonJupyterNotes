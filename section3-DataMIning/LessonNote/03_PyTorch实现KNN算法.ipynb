{
 "cells": [
  {
   "cell_type": "code",
   "execution_count": 6,
   "id": "1f570b46-b5f0-4712-b23e-a505153596e1",
   "metadata": {},
   "outputs": [],
   "source": [
    "# from torchvision import dataset of MNIST and transforms\n",
    "from torchvision import datasets,transforms\n",
    "\n",
    "import numpy as np\n",
    "\n",
    "# import evaluation metrics of accyracy_score\n",
    "from sklearn.metrics import accuracy_score\n",
    "from time import time,sleep\n",
    "\n",
    "import torch"
   ]
  },
  {
   "cell_type": "code",
   "execution_count": 2,
   "id": "9cd60e3c-19af-445e-b08c-a84311e6ae66",
   "metadata": {},
   "outputs": [],
   "source": [
    "# 1.download and load MNIST dataset and split for data and target\n",
    "def load_and_split_dataset():\n",
    "\n",
    "    # download and load train dataset,params of download=true means need download dataset first,params transform means need change data type from ndarray to tensor(张量)\n",
    "    train_dataset = datasets.MNIST(\n",
    "        root='./data',\n",
    "        download=True,\n",
    "        transform=transforms.ToTensor(),\n",
    "        train=True\n",
    "    )\n",
    "\n",
    "    # download and load train dataset,params of download=true means need download dataset first,params transform means need change data type from ndarray to tensor(张量)\n",
    "    test_dataset = datasets.MNIST(\n",
    "        root='./data',\n",
    "        download=True,\n",
    "        transform=transforms.ToTensor(),\n",
    "        train=False\n",
    "    )\n",
    "\n",
    "    # split data and target from train dataset\n",
    "    train_x = []\n",
    "    train_y = []\n",
    "\n",
    "    # iter for each samples\n",
    "    for i in range(len(train_dataset)):\n",
    "\n",
    "        # get samples and target\n",
    "        images,target = train_dataset[i]\n",
    "\n",
    "\n",
    "        # append each samples to list\n",
    "        train_x.append(images.view(-1)) # reshape tensor\n",
    "        train_y.append(target)\n",
    "\n",
    "        # only need 5000 train samples\n",
    "        if i > 5000:\n",
    "            break\n",
    "\n",
    "    # split data and target from test dataset\n",
    "    test_x = []\n",
    "    test_y = []\n",
    "\n",
    "    # iter for each samples\n",
    "    for i in range(len(test_dataset)):\n",
    "\n",
    "        # get samples and target\n",
    "        images, target = test_dataset[i]\n",
    "\n",
    "\n",
    "        # append each samples to list\n",
    "        test_x.append(images.view(-1))  # reshape tensor\n",
    "        test_y.append(target)\n",
    "\n",
    "        # only need 200 test samples\n",
    "        if i > 200:\n",
    "            break\n",
    "\n",
    "    print('samples all classes:{}'.format(set(train_y)))\n",
    "\n",
    "    return train_x,train_y,test_x,test_y"
   ]
  },
  {
   "cell_type": "code",
   "execution_count": 3,
   "id": "4dbb0f70-48db-43cb-b16a-c69b9b87fc07",
   "metadata": {},
   "outputs": [],
   "source": [
    "# 2.define the KNN model\n",
    "def KNN_Model(train_x,train_y,test_x,test_y,k):\n",
    "    '''\n",
    "    build the knn model\n",
    "    :param train_x: train dataset\n",
    "    :param train_y: train target(label)\n",
    "    :param test_x: test dataset\n",
    "    :param test_y: test target(label)\n",
    "    :param k: neighbor counts\n",
    "    :return:\n",
    "    '''\n",
    "\n",
    "    # get local timestamp\n",
    "    since = time()\n",
    "\n",
    "    # get train dataset and test dataset of samples number\n",
    "    m = test_x.size(0)\n",
    "    n = train_x.size(0)\n",
    "\n",
    "    # test dataset and train dataset original(原本的) dimension(维度) is m*1,**2 is square(平方) for each samples,sum(dim=1,means sum for line(sample),keepdim=true means keep 2 dimension),expand means change the disension for keep m*n\n",
    "    xx = (test_x ** 2).sum(dim=1, keepdim=True).expand(m, n)\n",
    "    yy = (train_x ** 2).sum(dim=1, keepdim=True).expand(n, m).transpose(0, 1) # transpose means reshape(转置)\n",
    "\n",
    "    # cal neighbors distance matrix\n",
    "    dist_mat = xx + yy - 2 * test_x.matmul(train_x.transpose(0, 1)) # code means:(x-y)**2\n",
    "\n",
    "    # sort for neighbors distance metrix,need to find which samples is the nearest neighbor\n",
    "    mink_idxs = dist_mat.argsort(dim=-1)\n",
    "\n",
    "    # empty list,to save k nums nearest neighbors\n",
    "    res = []\n",
    "    for idxs in mink_idxs:\n",
    "        # voting\n",
    "        res.append(np.bincount(np.array([train_y[idx] for idx in idxs[:k]])).argmax())\n",
    "\n",
    "    # 断言调试，断定找到的k个最近的邻居的个数与测试集样本个数\n",
    "    assert len(res) == len(test_y)\n",
    "\n",
    "    # cal accuracy_score\n",
    "    print(\"accuracy_score:{}\".format(accuracy_score(test_y, res)))\n",
    "\n",
    "    # cal training time\n",
    "    time_elapsed = time() - since\n",
    "\n",
    "    print('KNN mat training complete in {}m {}s'.format(time_elapsed // 60, time_elapsed % 60))"
   ]
  },
  {
   "cell_type": "code",
   "execution_count": 4,
   "id": "8482d82b-b3a0-47de-9907-e662f5b40842",
   "metadata": {},
   "outputs": [],
   "source": [
    "def test():\n",
    "    train_x,train_y,test_x,test_y = load_and_split_dataset()\n",
    "    KNN_Model(torch.stack(train_x), train_y, torch.stack(test_x), test_y, 7)"
   ]
  },
  {
   "cell_type": "code",
   "execution_count": 7,
   "id": "674202de-f0d2-4030-ba9e-f8fd42f299ee",
   "metadata": {},
   "outputs": [
    {
     "name": "stdout",
     "output_type": "stream",
     "text": [
      "samples all classes:{0, 1, 2, 3, 4, 5, 6, 7, 8, 9}\n",
      "accuracy_score:0.9405940594059405\n",
      "KNN mat training complete in 0.0m 0.41864442825317383s\n"
     ]
    }
   ],
   "source": [
    "test()"
   ]
  },
  {
   "cell_type": "code",
   "execution_count": null,
   "id": "6fad55ca-8a3c-487e-931a-f5de159d3c8a",
   "metadata": {},
   "outputs": [],
   "source": []
  }
 ],
 "metadata": {
  "kernelspec": {
   "display_name": "PyTorch-2.0.0",
   "language": "python",
   "name": "pytorch-2.0.0"
  },
  "language_info": {
   "codemirror_mode": {
    "name": "ipython",
    "version": 3
   },
   "file_extension": ".py",
   "mimetype": "text/x-python",
   "name": "python",
   "nbconvert_exporter": "python",
   "pygments_lexer": "ipython3",
   "version": "3.9.11"
  }
 },
 "nbformat": 4,
 "nbformat_minor": 5
}
